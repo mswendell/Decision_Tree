{
 "cells": [
  {
   "cell_type": "code",
   "execution_count": 12,
   "metadata": {},
   "outputs": [],
   "source": [
    "#decision tree\n",
    "#continuous try all values and find th ebest splitting values for continuous and categorical\n",
    "import numpy as np\n",
    "import scipy.stats\n",
    "import pandas as pd\n",
    "#X_train=np.random.choice([1,0],(10,6))\n",
    "#y_train=np.random.choice([1,0],(10,))\n",
    "refund = np.random.choice([\"no\",\"yes\"],(20,))\n",
    "MS = np.random.choice([\"Single\",\"Married\", \"Divorced\"],(20,))\n",
    "TI = np.random.choice(250,20)\n",
    "cheat = np.random.choice([\"no\",\"yes\"],(20,))\n",
    "X_train = [refund, MS, TI]\n",
    "y_train= pd.array(cheat)"
   ]
  },
  {
   "cell_type": "code",
   "execution_count": 13,
   "metadata": {},
   "outputs": [
    {
     "data": {
      "text/plain": [
       "[array(['yes', 'no', 'yes', 'no', 'yes', 'no', 'yes', 'no', 'no', 'no',\n",
       "        'yes', 'no', 'no', 'no', 'yes', 'no', 'yes', 'yes', 'yes', 'no'],\n",
       "       dtype='<U3'),\n",
       " array(['Single', 'Single', 'Divorced', 'Single', 'Single', 'Divorced',\n",
       "        'Married', 'Single', 'Married', 'Divorced', 'Married', 'Single',\n",
       "        'Single', 'Divorced', 'Single', 'Married', 'Married', 'Divorced',\n",
       "        'Married', 'Married'], dtype='<U8'),\n",
       " array([217, 126,  20, 239, 134, 147, 225, 220,  91,  13,  85, 178, 104,\n",
       "        168, 109, 245, 138,  14,  17, 154])]"
      ]
     },
     "execution_count": 13,
     "metadata": {},
     "output_type": "execute_result"
    }
   ],
   "source": [
    "X_train"
   ]
  },
  {
   "cell_type": "code",
   "execution_count": 14,
   "metadata": {},
   "outputs": [
    {
     "data": {
      "text/plain": [
       "<StringArray>\n",
       "['yes',  'no', 'yes',  'no', 'yes',  'no', 'yes', 'yes', 'yes',  'no', 'yes',\n",
       " 'yes',  'no',  'no',  'no',  'no',  'no', 'yes',  'no',  'no']\n",
       "Length: 20, dtype: string"
      ]
     },
     "execution_count": 14,
     "metadata": {},
     "output_type": "execute_result"
    }
   ],
   "source": [
    "y_train"
   ]
  },
  {
   "cell_type": "code",
   "execution_count": 15,
   "metadata": {},
   "outputs": [],
   "source": [
    "y_train = pd.factorize(y_train)[0]"
   ]
  },
  {
   "cell_type": "code",
   "execution_count": 16,
   "metadata": {},
   "outputs": [
    {
     "name": "stdout",
     "output_type": "stream",
     "text": [
      "True\n",
      "True\n",
      "False\n"
     ]
    }
   ],
   "source": [
    "for j,i in enumerate(X_train):\n",
    "    if type(i[0]) == np.str_:\n",
    "        X_train[j] = pd.factorize(i)[0]\n",
    "X_train = np.transpose(X_train)"
   ]
  },
  {
   "cell_type": "code",
   "execution_count": 18,
   "metadata": {},
   "outputs": [
    {
     "name": "stdout",
     "output_type": "stream",
     "text": [
      "1.5588718484453603\n",
      "0.655\n"
     ]
    },
    {
     "data": {
      "text/plain": [
       "3.5110854081804286"
      ]
     },
     "execution_count": 18,
     "metadata": {},
     "output_type": "execute_result"
    }
   ],
   "source": [
    "node = X_train[:,1]\n",
    "n = len(node)\n",
    "value,counts = np.unique(node, return_counts=True)\n",
    "probs = counts / n\n",
    "ent = 0\n",
    "ent -= np.sum(probs * np.log2(probs))\n",
    "print(ent)\n",
    "gini = 0\n",
    "gini = 1 - np.sum(probs*probs)\n",
    "print(gini)\n",
    "entropy = scipy.stats.entropy(node, base=2)\n",
    "entropy"
   ]
  },
  {
   "cell_type": "code",
   "execution_count": 20,
   "metadata": {},
   "outputs": [
    {
     "data": {
      "text/plain": [
       "0"
      ]
     },
     "execution_count": 20,
     "metadata": {},
     "output_type": "execute_result"
    }
   ],
   "source": [
    "h=set([a for a in X_train[:,1]]) #creates a set of all values in y\n",
    "best=-1\n",
    "valueBest=-1\n",
    "for f in h:\n",
    "    count=np.sum(X_train[:,1]==f) # counts the sum of all true values for the metric{True or False}\n",
    "    if count>=best:\n",
    "        best=count\n",
    "        valueBest=f\n",
    "valueBest"
   ]
  },
  {
   "cell_type": "code",
   "execution_count": 177,
   "metadata": {},
   "outputs": [],
   "source": [
    "#checks to see if the node is splittable - creates a set from all the values of y and checks if\n",
    "# is greater than 1\n",
    "def isSplittable(y):\n",
    "    return len(set([a for a in y]))!=1\n",
    "\n",
    "\n",
    "#need to change in a way it can be binary, numerical, and nominal\n",
    "#need to calculate entropy and return it\n",
    "#takes x y and the feature needs to also thake a threshold value to split.\n",
    "#project the children and split it then compute the entropy for each and the total weighted entropy\n",
    "def scoref(X,y,f):\n",
    "    c = bestClass(X[:,f])\n",
    "    r = y[X[:,f]>=c]\n",
    "    print(r)\n",
    "    valuer,countsr = np.unique(r, return_counts=True)\n",
    "    print(countsr)\n",
    "    probsr = countsr / len(r)\n",
    "    entr = 0\n",
    "    entr -= np.sum(probsr * np.log2(probsr))\n",
    "    \n",
    "    l = y[X[:,f]<c]\n",
    "    valuel,countsl = np.unique(l, return_counts=True)\n",
    "    probsl = countsl / len(l)\n",
    "    entl = 0\n",
    "    entl -= np.sum(probsl * np.log2(probsl))\n",
    "    \n",
    "    value,counts = np.unique(y, return_counts=True)\n",
    "    probs = counts / len(y)\n",
    "    ent = entr*probs[0] + entl*probs[1]\n",
    "    return ent\n",
    "\n",
    "#checks the array for the majority class and then returns the best class values {1 or 0}\n",
    "def bestClass(y):\n",
    "    h=set([a for a in y]) #creates a set of all values in y\n",
    "    best=-1\n",
    "    valueBest=-1\n",
    "    for f in h:\n",
    "        count=np.sum(y==f) # counts the sum of all true values for the metric{True or False}\n",
    "        if count>=best:\n",
    "            best=count\n",
    "            valueBest=f\n",
    "    return valueBest\n",
    "\n",
    "def createTree(X,y):\n",
    "    if X.shape[0]>1 and isSplittable(y): #statements to make sure size is accepable and node is splittable\n",
    "        best=-19000000\n",
    "        bestindex=-1\n",
    "        for i in range(X.shape[1]): #for each index in X\n",
    "            if len(set([h for h in X[:,i]]))>1: # if the length of the columns is greater than 1\n",
    "                score=scoref(X,y,i) #pass in the arrays and a column value to scores to generate a value\n",
    "                print(i, score)\n",
    "                if best<=score: \n",
    "                    best=score\n",
    "                    bestindex=i\n",
    "        if bestindex==-1:\n",
    "            print(y)\n",
    "            return ('l',bestClass(y)) #leaf node with the class\n",
    "        else:\n",
    "            cr=createTree(X[X[:,bestindex]==0],y[X[:,bestindex]==0]) #split right node and create new tree.\n",
    "            cl=createTree(X[X[:,bestindex]==1],y[X[:,bestindex]==1]) #split left node and create new tree.\n",
    "            return ('node at', bestindex, 'left child',cr,'right child',cl)\n",
    "    else:\n",
    "        return ('l',bestClass(y)) #create leaf node.\n",
    "    \n",
    "def inference(T,X):\n",
    "    return np.array([inference1(T,x) for x in X])\n",
    "\n",
    "\n",
    "def inference1(T,x):\n",
    "    (l,c)=T\n",
    "    if l=='n':\n",
    "        (index,left,rigth)=c\n",
    "        if x[index]==0:\n",
    "            return inference1(left,x)\n",
    "        else:\n",
    "            return inference1(rigth,x)\n",
    "    else:\n",
    "        return c"
   ]
  },
  {
   "cell_type": "code",
   "execution_count": 178,
   "metadata": {},
   "outputs": [
    {
     "name": "stdout",
     "output_type": "stream",
     "text": [
      "[1 1 1 0 0 1 0 1 1 1 1]\n",
      "[3 8]\n",
      "0 0.8854706302100657\n",
      "[0 1 0 1 0 1 0 0 0 1 0 0 1 1 1 1 1 0 1 1]\n",
      "[ 9 11]\n",
      "1 0.44674850429451374\n",
      "[0 1 1 0 1 0 0 0 1 1 1 1]\n",
      "[5 7]\n",
      "2 0.9909409404930188\n"
     ]
    }
   ],
   "source": [
    "T=createTree(X_train,y_train)"
   ]
  },
  {
   "cell_type": "code",
   "execution_count": 179,
   "metadata": {},
   "outputs": [
    {
     "data": {
      "text/plain": [
       "('node at', 2, 'left child', ('l', -1), 'right child', ('l', -1))"
      ]
     },
     "execution_count": 179,
     "metadata": {},
     "output_type": "execute_result"
    }
   ],
   "source": [
    "T"
   ]
  },
  {
   "cell_type": "markdown",
   "metadata": {},
   "source": [
    "Correct schould look like ('n', (2, ('l', 0), ('n', (1, ('l', 0), (n, (0, ('l', 0), ('l', 0)))))))"
   ]
  },
  {
   "cell_type": "code",
   "execution_count": 139,
   "metadata": {
    "scrolled": false
   },
   "outputs": [
    {
     "data": {
      "text/plain": [
       "[Text(0.5, 0.9375, 'X[0] <= 0.5\\nentropy = 0.993\\nsamples = 20\\nvalue = [9, 11]'),\n",
       " Text(0.3076923076923077, 0.8125, 'X[2] <= 177.5\\nentropy = 0.918\\nsamples = 9\\nvalue = [6, 3]'),\n",
       " Text(0.23076923076923078, 0.6875, 'X[2] <= 136.0\\nentropy = 0.985\\nsamples = 7\\nvalue = [4, 3]'),\n",
       " Text(0.15384615384615385, 0.5625, 'X[2] <= 15.5\\nentropy = 0.918\\nsamples = 6\\nvalue = [4, 2]'),\n",
       " Text(0.07692307692307693, 0.4375, 'entropy = 0.0\\nsamples = 1\\nvalue = [1, 0]'),\n",
       " Text(0.23076923076923078, 0.4375, 'X[2] <= 18.5\\nentropy = 0.971\\nsamples = 5\\nvalue = [3, 2]'),\n",
       " Text(0.15384615384615385, 0.3125, 'entropy = 0.0\\nsamples = 1\\nvalue = [0, 1]'),\n",
       " Text(0.3076923076923077, 0.3125, 'X[2] <= 97.0\\nentropy = 0.811\\nsamples = 4\\nvalue = [3, 1]'),\n",
       " Text(0.23076923076923078, 0.1875, 'entropy = 0.0\\nsamples = 2\\nvalue = [2, 0]'),\n",
       " Text(0.38461538461538464, 0.1875, 'X[2] <= 121.5\\nentropy = 1.0\\nsamples = 2\\nvalue = [1, 1]'),\n",
       " Text(0.3076923076923077, 0.0625, 'entropy = 0.0\\nsamples = 1\\nvalue = [0, 1]'),\n",
       " Text(0.46153846153846156, 0.0625, 'entropy = 0.0\\nsamples = 1\\nvalue = [1, 0]'),\n",
       " Text(0.3076923076923077, 0.5625, 'entropy = 0.0\\nsamples = 1\\nvalue = [0, 1]'),\n",
       " Text(0.38461538461538464, 0.6875, 'entropy = 0.0\\nsamples = 2\\nvalue = [2, 0]'),\n",
       " Text(0.6923076923076923, 0.8125, 'X[2] <= 173.0\\nentropy = 0.845\\nsamples = 11\\nvalue = [3, 8]'),\n",
       " Text(0.5384615384615384, 0.6875, 'X[1] <= 1.5\\nentropy = 0.592\\nsamples = 7\\nvalue = [1, 6]'),\n",
       " Text(0.46153846153846156, 0.5625, 'entropy = 0.0\\nsamples = 5\\nvalue = [0, 5]'),\n",
       " Text(0.6153846153846154, 0.5625, 'X[2] <= 122.5\\nentropy = 1.0\\nsamples = 2\\nvalue = [1, 1]'),\n",
       " Text(0.5384615384615384, 0.4375, 'entropy = 0.0\\nsamples = 1\\nvalue = [1, 0]'),\n",
       " Text(0.6923076923076923, 0.4375, 'entropy = 0.0\\nsamples = 1\\nvalue = [0, 1]'),\n",
       " Text(0.8461538461538461, 0.6875, 'X[2] <= 229.5\\nentropy = 1.0\\nsamples = 4\\nvalue = [2, 2]'),\n",
       " Text(0.7692307692307693, 0.5625, 'entropy = 0.0\\nsamples = 2\\nvalue = [2, 0]'),\n",
       " Text(0.9230769230769231, 0.5625, 'entropy = 0.0\\nsamples = 2\\nvalue = [0, 2]')]"
      ]
     },
     "execution_count": 139,
     "metadata": {},
     "output_type": "execute_result"
    },
    {
     "data": {
      "image/png": "[encoded data removed]",
      "text/plain": [
       "<Figure size 432x288 with 1 Axes>"
      ]
     },
     "metadata": {
      "needs_background": "light"
     },
     "output_type": "display_data"
    }
   ],
   "source": [
    "#Tree in sklearn for reference.\n",
    "from sklearn import tree\n",
    "clf = tree.DecisionTreeClassifier(criterion='entropy')\n",
    "clf = clf.fit(X_train, y_train)\n",
    "tree.plot_tree(clf)"
   ]
  },
  {
   "cell_type": "code",
   "execution_count": 142,
   "metadata": {},
   "outputs": [
    {
     "data": {
      "text/plain": [
       "array([-1, -1,  0, -1, -1, -1,  0, -1, -1, -1,  0, -1, -1, -1, -1, -1,  0,\n",
       "        0,  0, -1], dtype=int64)"
      ]
     },
     "execution_count": 142,
     "metadata": {},
     "output_type": "execute_result"
    }
   ],
   "source": [
    "y_pred=inference(T,X_train)\n",
    "y_pred"
   ]
  },
  {
   "cell_type": "code",
   "execution_count": 141,
   "metadata": {},
   "outputs": [
    {
     "name": "stdout",
     "output_type": "stream",
     "text": [
      "              precision    recall  f1-score   support\n",
      "\n",
      "          -1       0.00      0.00      0.00         0\n",
      "           0       0.67      0.44      0.53         9\n",
      "           1       0.00      0.00      0.00        11\n",
      "\n",
      "    accuracy                           0.20        20\n",
      "   macro avg       0.22      0.15      0.18        20\n",
      "weighted avg       0.30      0.20      0.24        20\n",
      "\n"
     ]
    },
    {
     "name": "stderr",
     "output_type": "stream",
     "text": [
      "C:\\Users\\Michael Wendell\\anaconda3\\lib\\site-packages\\sklearn\\metrics\\_classification.py:1318: UndefinedMetricWarning: Precision and F-score are ill-defined and being set to 0.0 in labels with no predicted samples. Use `zero_division` parameter to control this behavior.\n",
      "  _warn_prf(average, modifier, msg_start, len(result))\n",
      "C:\\Users\\Michael Wendell\\anaconda3\\lib\\site-packages\\sklearn\\metrics\\_classification.py:1318: UndefinedMetricWarning: Recall and F-score are ill-defined and being set to 0.0 in labels with no true samples. Use `zero_division` parameter to control this behavior.\n",
      "  _warn_prf(average, modifier, msg_start, len(result))\n",
      "C:\\Users\\Michael Wendell\\anaconda3\\lib\\site-packages\\sklearn\\metrics\\_classification.py:1318: UndefinedMetricWarning: Precision and F-score are ill-defined and being set to 0.0 in labels with no predicted samples. Use `zero_division` parameter to control this behavior.\n",
      "  _warn_prf(average, modifier, msg_start, len(result))\n",
      "C:\\Users\\Michael Wendell\\anaconda3\\lib\\site-packages\\sklearn\\metrics\\_classification.py:1318: UndefinedMetricWarning: Recall and F-score are ill-defined and being set to 0.0 in labels with no true samples. Use `zero_division` parameter to control this behavior.\n",
      "  _warn_prf(average, modifier, msg_start, len(result))\n",
      "C:\\Users\\Michael Wendell\\anaconda3\\lib\\site-packages\\sklearn\\metrics\\_classification.py:1318: UndefinedMetricWarning: Precision and F-score are ill-defined and being set to 0.0 in labels with no predicted samples. Use `zero_division` parameter to control this behavior.\n",
      "  _warn_prf(average, modifier, msg_start, len(result))\n",
      "C:\\Users\\Michael Wendell\\anaconda3\\lib\\site-packages\\sklearn\\metrics\\_classification.py:1318: UndefinedMetricWarning: Recall and F-score are ill-defined and being set to 0.0 in labels with no true samples. Use `zero_division` parameter to control this behavior.\n",
      "  _warn_prf(average, modifier, msg_start, len(result))\n"
     ]
    },
    {
     "data": {
      "image/png": "[encoded data removed]",
      "text/plain": [
       "<Figure size 432x288 with 2 Axes>"
      ]
     },
     "metadata": {
      "needs_background": "light"
     },
     "output_type": "display_data"
    }
   ],
   "source": [
    "from sklearn.metrics import classification_report\n",
    "print(classification_report(y_train, y_pred))\n",
    "from sklearn.metrics import confusion_matrix\n",
    "from sklearn.metrics import ConfusionMatrixDisplay\n",
    "cm = confusion_matrix(y_train, y_pred)\n",
    "cm_display = ConfusionMatrixDisplay(cm).plot()"
   ]
  },
  {
   "cell_type": "code",
   "execution_count": null,
   "metadata": {},
   "outputs": [],
   "source": []
  }
 ],
 "metadata": {
  "kernelspec": {
   "display_name": "Python 3 (ipykernel)",
   "language": "python",
   "name": "python3"
  },
  "language_info": {
   "codemirror_mode": {
    "name": "ipython",
    "version": 3
   },
   "file_extension": ".py",
   "mimetype": "text/x-python",
   "name": "python",
   "nbconvert_exporter": "python",
   "pygments_lexer": "ipython3",
   "version": "3.9.12"
  },
  "vscode": {
   "interpreter": {
    "hash": "0e0832a38b1a2d765956ce9eaddd02e98afb5cb154e4c3756209e78429098521"
   }
  }
 },
 "nbformat": 4,
 "nbformat_minor": 2
}
